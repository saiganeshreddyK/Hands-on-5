{
 "cells": [
  {
   "cell_type": "code",
   "execution_count": 1,
   "id": "98f64193-d10a-45e9-915d-63d55abb2573",
   "metadata": {},
   "outputs": [
    {
     "name": "stdout",
     "output_type": "stream",
     "text": [
      "Heap: [10, 15, 77, 17, 45]\n",
      "Popped root: 10\n",
      "Heap after popping root: [15, 17, 77, 45]\n",
      "\n",
      "Heap: [3.3, 5.9, 8.9, 7.2, 7.7]\n",
      "Popped root: 3.3\n",
      "Heap after popping root: [5.9, 7.2, 8.9, 7.7]\n",
      "\n",
      "Heap: ['Baseball', 'Cricket', 'Basketball', 'Football', 'Tennis']\n",
      "Popped root: Baseball\n",
      "Heap after popping root: ['Basketball', 'Cricket', 'Tennis', 'Football']\n"
     ]
    }
   ],
   "source": [
    "class MinHeap:\n",
    "    def parent(self, i):\n",
    "        return (i - 1) >> 1\n",
    "\n",
    "    def left(self, i):\n",
    "        return (i << 1) + 1\n",
    "\n",
    "    def right(self, i):\n",
    "        return (i << 1) + 2\n",
    "\n",
    "    def build_min_heap(self, arr):\n",
    "        self.heap = arr[:]\n",
    "        n = len(arr)\n",
    "        for i in range(n // 2, -1, -1):\n",
    "            self.heapify(i)\n",
    "\n",
    "    def heapify(self, i):\n",
    "        l = self.left(i)\n",
    "        r = self.right(i)\n",
    "        smallest = i\n",
    "        if l < len(self.heap) and self.heap[l] < self.heap[smallest]:\n",
    "            smallest = l\n",
    "        if r < len(self.heap) and self.heap[r] < self.heap[smallest]:\n",
    "            smallest = r\n",
    "        if smallest != i:\n",
    "            self.heap[i], self.heap[smallest] = self.heap[smallest], self.heap[i]\n",
    "            self.heapify(smallest)\n",
    "\n",
    "    def pop_root(self):\n",
    "        if not hasattr(self, 'heap'):\n",
    "            return None\n",
    "        if not self.heap:\n",
    "            return None\n",
    "        root = self.heap[0]\n",
    "        self.heap[0] = self.heap[-1]\n",
    "        self.heap.pop()\n",
    "        self.heapify(0)\n",
    "        return root\n",
    "\n",
    "if __name__ == \"__main__\":\n",
    "    # Example with integers\n",
    "    min_heap = MinHeap()\n",
    "    min_heap.build_min_heap([17, 45, 77, 15, 10])\n",
    "    print(\"Heap:\", min_heap.heap)\n",
    "    print(\"Popped root:\", min_heap.pop_root())\n",
    "    print(\"Heap after popping root:\", min_heap.heap)\n",
    "\n",
    "    # Example with floats\n",
    "    min_heap.build_min_heap([3.3, 5.9, 8.9, 7.2, 7.7])\n",
    "    print(\"\\nHeap:\", min_heap.heap)\n",
    "    print(\"Popped root:\", min_heap.pop_root())\n",
    "    print(\"Heap after popping root:\", min_heap.heap)\n",
    "\n",
    "    # Example with strings\n",
    "    min_heap.build_min_heap([\"Baseball\", \"Cricket\", \"Basketball\", \"Football\", \"Tennis\"])\n",
    "    print(\"\\nHeap:\", min_heap.heap)\n",
    "    print(\"Popped root:\", min_heap.pop_root())\n",
    "    print(\"Heap after popping root:\", min_heap.heap)"
   ]
  }
 ],
 "metadata": {
  "kernelspec": {
   "display_name": "Python 3 (ipykernel)",
   "language": "python",
   "name": "python3"
  },
  "language_info": {
   "codemirror_mode": {
    "name": "ipython",
    "version": 3
   },
   "file_extension": ".py",
   "mimetype": "text/x-python",
   "name": "python",
   "nbconvert_exporter": "python",
   "pygments_lexer": "ipython3",
   "version": "3.12.1"
  }
 },
 "nbformat": 4,
 "nbformat_minor": 5
}
